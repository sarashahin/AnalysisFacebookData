{
 "cells": [
  {
   "cell_type": "code",
   "execution_count": 10,
   "metadata": {},
   "outputs": [
    {
     "data": {
      "text/html": [
       "<div>\n",
       "<style scoped>\n",
       "    .dataframe tbody tr th:only-of-type {\n",
       "        vertical-align: middle;\n",
       "    }\n",
       "\n",
       "    .dataframe tbody tr th {\n",
       "        vertical-align: top;\n",
       "    }\n",
       "\n",
       "    .dataframe thead th {\n",
       "        text-align: right;\n",
       "    }\n",
       "</style>\n",
       "<table border=\"1\" class=\"dataframe\">\n",
       "  <thead>\n",
       "    <tr style=\"text-align: right;\">\n",
       "      <th></th>\n",
       "      <th>timestamp</th>\n",
       "      <th>attachments</th>\n",
       "      <th>data</th>\n",
       "      <th>title</th>\n",
       "      <th>tags</th>\n",
       "    </tr>\n",
       "  </thead>\n",
       "  <tbody>\n",
       "    <tr>\n",
       "      <th>0</th>\n",
       "      <td>2011-11-06 14:53:44</td>\n",
       "      <td>[{'data': [{'media': {'uri': 'posts/media/Time...</td>\n",
       "      <td>[]</td>\n",
       "      <td>Sara Shahin added a new photo.</td>\n",
       "      <td>NaN</td>\n",
       "    </tr>\n",
       "    <tr>\n",
       "      <th>1</th>\n",
       "      <td>2011-11-06 14:56:38</td>\n",
       "      <td>[{'data': [{'media': {'uri': 'posts/media/Time...</td>\n",
       "      <td>[]</td>\n",
       "      <td>Sara Shahin added a new photo.</td>\n",
       "      <td>NaN</td>\n",
       "    </tr>\n",
       "    <tr>\n",
       "      <th>2</th>\n",
       "      <td>2011-11-06 14:59:09</td>\n",
       "      <td>[{'data': [{'media': {'uri': 'posts/media/Time...</td>\n",
       "      <td>[]</td>\n",
       "      <td>Sara Shahin added a new photo.</td>\n",
       "      <td>NaN</td>\n",
       "    </tr>\n",
       "  </tbody>\n",
       "</table>\n",
       "</div>"
      ],
      "text/plain": [
       "            timestamp                                        attachments data  \\\n",
       "0 2011-11-06 14:53:44  [{'data': [{'media': {'uri': 'posts/media/Time...   []   \n",
       "1 2011-11-06 14:56:38  [{'data': [{'media': {'uri': 'posts/media/Time...   []   \n",
       "2 2011-11-06 14:59:09  [{'data': [{'media': {'uri': 'posts/media/Time...   []   \n",
       "\n",
       "                            title tags  \n",
       "0  Sara Shahin added a new photo.  NaN  \n",
       "1  Sara Shahin added a new photo.  NaN  \n",
       "2  Sara Shahin added a new photo.  NaN  "
      ]
     },
     "execution_count": 10,
     "metadata": {},
     "output_type": "execute_result"
    }
   ],
   "source": [
    "import json\n",
    "import pandas as pd\n",
    "\n",
    "\n",
    "df = pd.read_json('facebookData.json')\n",
    "df.head(3)"
   ]
  },
  {
   "cell_type": "code",
   "execution_count": 11,
   "metadata": {},
   "outputs": [
    {
     "data": {
      "text/html": [
       "<div>\n",
       "<style scoped>\n",
       "    .dataframe tbody tr th:only-of-type {\n",
       "        vertical-align: middle;\n",
       "    }\n",
       "\n",
       "    .dataframe tbody tr th {\n",
       "        vertical-align: top;\n",
       "    }\n",
       "\n",
       "    .dataframe thead th {\n",
       "        text-align: right;\n",
       "    }\n",
       "</style>\n",
       "<table border=\"1\" class=\"dataframe\">\n",
       "  <thead>\n",
       "    <tr style=\"text-align: right;\">\n",
       "      <th></th>\n",
       "      <th>date</th>\n",
       "      <th>data</th>\n",
       "    </tr>\n",
       "  </thead>\n",
       "  <tbody>\n",
       "    <tr>\n",
       "      <th>0</th>\n",
       "      <td>2011-11-06 14:53:44</td>\n",
       "      <td>[]</td>\n",
       "    </tr>\n",
       "    <tr>\n",
       "      <th>1</th>\n",
       "      <td>2011-11-06 14:56:38</td>\n",
       "      <td>[]</td>\n",
       "    </tr>\n",
       "    <tr>\n",
       "      <th>2</th>\n",
       "      <td>2011-11-06 14:59:09</td>\n",
       "      <td>[]</td>\n",
       "    </tr>\n",
       "  </tbody>\n",
       "</table>\n",
       "</div>"
      ],
      "text/plain": [
       "                 date data\n",
       "0 2011-11-06 14:53:44   []\n",
       "1 2011-11-06 14:56:38   []\n",
       "2 2011-11-06 14:59:09   []"
      ]
     },
     "execution_count": 11,
     "metadata": {},
     "output_type": "execute_result"
    }
   ],
   "source": [
    "# rename the timestamp column\n",
    "df.rename(columns={'timestamp': 'date'}, inplace=True)\n",
    "\n",
    "#drop some unnecessary columns\n",
    "df = df.drop(['attachments', 'title', 'tags'], axis=1)\n",
    "\n",
    "# making sure it's datetime format\n",
    "pd.to_datetime(df['date'])\n",
    "\n",
    "df.head(3)"
   ]
  },
  {
   "cell_type": "code",
   "execution_count": 8,
   "metadata": {},
   "outputs": [
    {
     "name": "stdout",
     "output_type": "stream",
     "text": [
      "(339, 2)\n"
     ]
    },
    {
     "data": {
      "text/html": [
       "<div>\n",
       "<style scoped>\n",
       "    .dataframe tbody tr th:only-of-type {\n",
       "        vertical-align: middle;\n",
       "    }\n",
       "\n",
       "    .dataframe tbody tr th {\n",
       "        vertical-align: top;\n",
       "    }\n",
       "\n",
       "    .dataframe thead th {\n",
       "        text-align: right;\n",
       "    }\n",
       "</style>\n",
       "<table border=\"1\" class=\"dataframe\">\n",
       "  <thead>\n",
       "    <tr style=\"text-align: right;\">\n",
       "      <th></th>\n",
       "      <th>date</th>\n",
       "      <th>data</th>\n",
       "    </tr>\n",
       "  </thead>\n",
       "  <tbody>\n",
       "    <tr>\n",
       "      <th>336</th>\n",
       "      <td>2017-11-08 19:23:59</td>\n",
       "      <td>[{'update_timestamp': 1510169039}]</td>\n",
       "    </tr>\n",
       "    <tr>\n",
       "      <th>337</th>\n",
       "      <td>2017-11-23 21:12:11</td>\n",
       "      <td>[]</td>\n",
       "    </tr>\n",
       "    <tr>\n",
       "      <th>338</th>\n",
       "      <td>2017-11-28 10:18:24</td>\n",
       "      <td>[{'post': 'Monkey Puzzle Nursery ððð'}]</td>\n",
       "    </tr>\n",
       "  </tbody>\n",
       "</table>\n",
       "</div>"
      ],
      "text/plain": [
       "                   date                                              data\n",
       "336 2017-11-08 19:23:59                [{'update_timestamp': 1510169039}]\n",
       "337 2017-11-23 21:12:11                                                []\n",
       "338 2017-11-28 10:18:24  [{'post': 'Monkey Puzzle Nursery ððð'}]"
      ]
     },
     "execution_count": 8,
     "metadata": {},
     "output_type": "execute_result"
    }
   ],
   "source": [
    "print(df.shape)\n",
    "df.tail(3)"
   ]
  },
  {
   "cell_type": "code",
   "execution_count": 12,
   "metadata": {},
   "outputs": [
    {
     "data": {
      "text/plain": [
       "date\n",
       "2011-11-01     6\n",
       "2011-12-01     5\n",
       "2012-01-01     6\n",
       "2012-02-01     6\n",
       "2012-03-01     3\n",
       "              ..\n",
       "2017-07-01    11\n",
       "2017-08-01     9\n",
       "2017-09-01    14\n",
       "2017-10-01     6\n",
       "2017-11-01     6\n",
       "Freq: MS, Name: data, Length: 73, dtype: int64"
      ]
     },
     "execution_count": 12,
     "metadata": {},
     "output_type": "execute_result"
    }
   ],
   "source": [
    "df = df.set_index('date')\n",
    "count_postFace = df['data'].resample('MS').size()\n",
    "\n",
    "count_postFace \n"
   ]
  },
  {
   "cell_type": "code",
   "execution_count": 13,
   "metadata": {},
   "outputs": [
    {
     "data": {
      "image/png": "[encoded data removed]",
      "text/plain": [
       "<Figure size 2160x720 with 1 Axes>"
      ]
     },
     "metadata": {},
     "output_type": "display_data"
    }
   ],
   "source": [
    "%matplotlib inline\n",
    "\n",
    "import matplotlib.pyplot as plt\n",
    "import seaborn as sns\n",
    "import numpy as np\n",
    "\n",
    "# set figure size and font size\n",
    "sns.set(rc={'figure.figsize':(30,10)})\n",
    "sns.set(font_scale=4)\n",
    "\n",
    "# set x labels\n",
    "x_labels = count_postFace.index\n",
    "# print(x_labels)\n",
    "\n",
    "#create bar plot\n",
    "sns.barplot(x = x_labels, y = count_postFace, color=\"red\")\n",
    "# print(sns.barplot(x_labels, count_postFace, color=\"red\"))\n",
    "\n",
    "# a tick every other year in the resultant chart\n",
    "positionMonths24 = np.arange(10, len(x_labels), step=24)\n",
    "# print(positionMonths24 )\n",
    "\n",
    "# #r reformat the dates in the chart so that only the year is displayed onlyplt.ylabel(\"count_postFace\")\n",
    "plt.xticks(positionMonths24, x_labels[positionMonths24].strftime(\"%Y\"))\n",
    "\n",
    "# display the plot\n",
    "plt.show()"
   ]
  }
 ],
 "metadata": {
  "interpreter": {
   "hash": "40d3a090f54c6569ab1632332b64b2c03c39dcf918b08424e98f38b5ae0af88f"
  },
  "kernelspec": {
   "display_name": "Python 3.8.8 64-bit ('base': conda)",
   "name": "python3"
  },
  "language_info": {
   "codemirror_mode": {
    "name": "ipython",
    "version": 3
   },
   "file_extension": ".py",
   "mimetype": "text/x-python",
   "name": "python",
   "nbconvert_exporter": "python",
   "pygments_lexer": "ipython3",
   "version": "3.8.8"
  },
  "orig_nbformat": 4
 },
 "nbformat": 4,
 "nbformat_minor": 2
}
